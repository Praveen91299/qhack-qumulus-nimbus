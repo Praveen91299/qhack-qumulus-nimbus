{
 "cells": [
  {
   "cell_type": "markdown",
   "metadata": {},
   "source": [
    "# QHack Open Project  \n",
    "## Team Qumulus Nimbus  \n",
    "Team members: Praveen J and my cats. PS, I'm not a cat. \n",
    "## Project title: Feeding many trolls"
   ]
  },
  {
   "cell_type": "markdown",
   "metadata": {},
   "source": [
    "### Project abstract:  \n",
    "We provide a pennylane implementation of single qubit universal quantum classifier similar to that presented in [1] and [2]. We then provide an efficient method to parallely process classical data using a qram setup for the universal single qubit classifier.  \n",
    "We then attempt to address quantum classifiers by data reuploading for **Quantum Data** for experiments when we have copies of the quantum state and show it's performance, which we believe has not been done before.  \n",
    "\n",
    "We use the universal quantum classifier method and measurement strategies described in [1] to demonstrate a method of quantum music learning and generation by recasting the classifier into a markov chain like setup. We also use the qram structure we developed to combine and generate music. "
   ]
  },
  {
   "cell_type": "markdown",
   "metadata": {},
   "source": [
    "### Introduction:  \n",
    "\n",
    "\n",
    "Since our goal as a qhack project is to showcase our new ideas of encoding and music processing methods, we restrict all our methods to binary classification, but with some extra short steps, all can be extended to mulitple class classification by methods similar to that outlined in [1], which we do later on for the twelve note music scale similar to the tetrehedron shown in [1]."
   ]
  },
  {
   "cell_type": "code",
   "execution_count": 17,
   "metadata": {},
   "outputs": [],
   "source": [
    "import pennylane as qml\n",
    "import numpy as np\n",
    "import sys\n",
    "import matplotlib.pyplot as plt\n",
    "import time"
   ]
  },
  {
   "cell_type": "code",
   "execution_count": 9,
   "metadata": {},
   "outputs": [
    {
     "name": "stdout",
     "output_type": "stream",
     "text": [
      "[ 1.  1. -1. -1. -1.  1. -1. -1.  1.  1.  1. -1. -1.  1. -1. -1.  1.  1.\n",
      " -1. -1.]\n",
      "[[ 0.11546391  0.5794413 ]\n",
      " [ 0.17668031 -0.42143883]\n",
      " [ 0.90546895  0.88519638]\n",
      " [-0.84857842 -0.63074686]\n",
      " [ 0.14125159 -0.96266139]\n",
      " [ 0.44775076 -0.45366258]\n",
      " [ 0.22530292 -0.77399524]\n",
      " [-0.75706397  0.51428002]\n",
      " [-0.34374666 -0.26271382]\n",
      " [ 0.24684088 -0.60517776]\n",
      " [-0.54503503 -0.34490355]\n",
      " [ 0.94067546 -0.45269719]\n",
      " [-0.93532978 -0.67094935]\n",
      " [-0.45046512  0.62465724]\n",
      " [ 0.00975317 -0.93340515]\n",
      " [-0.07789964 -0.98637493]\n",
      " [-0.53758496  0.52797987]\n",
      " [-0.41498539  0.19843941]\n",
      " [ 0.72943703  0.88673288]\n",
      " [ 0.26875761  0.79095308]]\n"
     ]
    }
   ],
   "source": [
    "#generating a circularly symmetric data set\n",
    "dataset_size = 500\n",
    "X_train = np.random.uniform(low=-1, high=1, size=(dataset_size, 2))\n",
    "Y_train = np.ones(dataset_size)\n",
    "for i in range(len(X_train)):\n",
    "    dist = np.sqrt(X_train[i][0]**2 + X_train[i][1]**2)\n",
    "    if dist > 0.8:\n",
    "        Y_train[i] = -1\n",
    "print(Y_train[:20])\n",
    "print(X_train[:20])"
   ]
  },
  {
   "cell_type": "code",
   "execution_count": 20,
   "metadata": {},
   "outputs": [
    {
     "data": {
      "image/png": "[encoded data removed]",
      "text/plain": [
       "<Figure size 360x360 with 1 Axes>"
      ]
     },
     "metadata": {
      "needs_background": "light"
     },
     "output_type": "display_data"
    }
   ],
   "source": [
    "#plotting generated data\n",
    "def plot_data(x, y, nclass, fig=None, ax=None): \n",
    "    if fig == None:\n",
    "        fig, ax = plt.subplots(1, 1, figsize=(5, 5))\n",
    "     \n",
    "    # colors and labels\n",
    "    col = [\"red\",\"blue\"]\n",
    "    lab = [1,-1]\n",
    "    \n",
    "    for i in range(nclass):\n",
    "        ax.scatter(x[y == lab[i], 0], x[y == lab[i], 1], c=col[i], s=20, edgecolor=\"k\")\n",
    "    ax.set_xlabel(\"$x_1$\")\n",
    "    ax.set_ylabel(\"$x_2$\")\n",
    "\n",
    "plot_data(X_train, Y_train, 2)"
   ]
  },
  {
   "cell_type": "code",
   "execution_count": 21,
   "metadata": {},
   "outputs": [
    {
     "name": "stdout",
     "output_type": "stream",
     "text": [
      "Cost at step 0: 1.4415418702587601\n",
      "Cost at step 1: 1.1370070480138568\n",
      "Cost at step 2: 1.8809053694423312\n",
      "Cost at step 3: 1.440147193662442\n",
      "Cost at step 4: 0.8110386037826169\n",
      "Cost at step 5: 1.4928717816213883\n",
      "Cost at step 6: 0.8287727557010276\n",
      "Cost at step 7: 0.8787222150956915\n",
      "Cost at step 8: 0.8618635560420659\n",
      "Cost at step 9: 0.5369263535652207\n",
      "Cost at step 10: 1.3079353813718886\n",
      "Cost at step 11: 1.606076979856518\n",
      "Cost at step 12: 2.609745599319006\n",
      "Cost at step 13: 0.4141949042087288\n",
      "Cost at step 14: 0.8845220584794473\n",
      "Cost at step 15: 0.6748726963582506\n",
      "Cost at step 16: 0.9268722205940897\n",
      "Cost at step 17: 0.5455689776531993\n",
      "Cost at step 18: 0.18562228020576382\n",
      "Cost at step 19: 0.8935519042429483\n",
      "Cost at step 20: 1.350986659894358\n",
      "Cost at step 21: 0.4086038452550526\n",
      "Cost at step 22: 0.06925691611807543\n",
      "Cost at step 23: 1.610137387927632\n",
      "Cost at step 24: 1.78989016844365\n",
      "Cost at step 25: 0.7652183064991636\n",
      "Cost at step 26: 0.7220467912434119\n",
      "Cost at step 27: 1.164901999968886\n",
      "Cost at step 28: 1.200871773753566\n",
      "Cost at step 29: 1.0089521524415512\n",
      "Cost at step 30: 0.8447604140355889\n",
      "Cost at step 31: 1.1103924539436416\n",
      "Cost at step 32: 1.2944316669478628\n",
      "Cost at step 33: 1.5790760994122106\n",
      "Cost at step 34: 0.9945693475477242\n",
      "Cost at step 35: 1.194863144963163\n",
      "Cost at step 36: 1.0612620135038207\n",
      "Cost at step 37: 0.5671229733223034\n",
      "Cost at step 38: 1.1124907865550349\n",
      "Cost at step 39: 0.98883650671666\n",
      "Cost at step 40: 0.5733427959844649\n",
      "Cost at step 41: 1.7762277486796922\n",
      "Cost at step 42: 0.9170214158526118\n",
      "Cost at step 43: 0.9052701166800569\n",
      "Cost at step 44: 0.5449635053903051\n",
      "Cost at step 45: 1.0168697655641143\n",
      "Cost at step 46: 1.6456492160850034\n",
      "Cost at step 47: 0.7021492524842238\n",
      "Cost at step 48: 0.04640249554629879\n",
      "Cost at step 49: 0.35151772155189837\n",
      "Cost at step 50: 0.7169495816390417\n",
      "Cost at step 51: 0.7326763014788494\n",
      "Cost at step 52: 1.0304053325320812\n",
      "Cost at step 53: 0.7126774674799617\n",
      "Cost at step 54: 0.9056369501769137\n",
      "Cost at step 55: 0.5739908977099362\n",
      "Cost at step 56: 2.4952390256470633\n",
      "Cost at step 57: 0.879587122491904\n",
      "Cost at step 58: 0.9185400075809685\n",
      "Cost at step 59: 1.1517210316664719\n",
      "Cost at step 60: 0.552145121307011\n",
      "Cost at step 61: 1.1614251014614336\n",
      "Cost at step 62: 1.1360155335677724\n",
      "Cost at step 63: 1.454297440411954\n",
      "Cost at step 64: 0.680956905175063\n",
      "Cost at step 65: 2.1552904775394253\n",
      "Cost at step 66: 0.9044867512351628\n",
      "Cost at step 67: 0.6828082445373705\n",
      "Cost at step 68: 0.3328152624810758\n",
      "Cost at step 69: 1.041258920692126\n",
      "Cost at step 70: 0.8757138902634212\n",
      "Cost at step 71: 1.0175776716810654\n",
      "Cost at step 72: 1.050567024253118\n",
      "Cost at step 73: 1.2049137513782997\n",
      "Cost at step 74: 1.276441814275252\n",
      "Cost at step 75: 0.8619745426517792\n",
      "Cost at step 76: 0.9142462055604417\n",
      "Cost at step 77: 1.43849778656936\n",
      "Cost at step 78: 1.277767229117486\n",
      "Cost at step 79: 1.2708938614763061\n",
      "Cost at step 80: 0.8791923464358848\n",
      "Cost at step 81: 1.83381195889693\n",
      "Cost at step 82: 0.6656527047847401\n",
      "Cost at step 83: 1.1099957577415611\n",
      "Cost at step 84: 0.39637676101313946\n",
      "Cost at step 85: 0.8977823905211981\n",
      "Cost at step 86: 1.5107859966683315\n",
      "Cost at step 87: 0.7325451909714855\n",
      "Cost at step 88: 0.8949646402716981\n",
      "Cost at step 89: 0.9510081727259749\n",
      "Cost at step 90: 1.0901681084373964\n",
      "Cost at step 91: 0.5009665771335047\n",
      "Cost at step 92: 1.1571428935958643\n",
      "Cost at step 93: 1.2791006632650666\n",
      "Cost at step 94: 1.038268003995618\n",
      "Cost at step 95: 1.0290844489245123\n",
      "Cost at step 96: 0.8733787119667454\n",
      "Cost at step 97: 0.49525915674177334\n",
      "Cost at step 98: 1.371479687874175\n",
      "Cost at step 99: 1.0603282929510893\n"
     ]
    }
   ],
   "source": [
    "#simple re-implementation of classical data uploading\n",
    "\n",
    "#initializations\n",
    "num_qubit = 1\n",
    "num_layers = 10\n",
    "weights = np.random.uniform(low=-np.pi / 2, high=np.pi / 2, size=(num_layers, 7)) #assuming 2D data input\n",
    "batch_size = 5\n",
    "\n",
    "dev = qml.device(\"default.qubit\", wires=num_qubit)\n",
    "opt = qml.GradientDescentOptimizer(stepsize=0.0002)\n",
    "\n",
    "def apply_data_layer(params, wires, data):\n",
    "    qml.Rot(params[0, 0]*data[0] + params[0, 1], \n",
    "            params[1, 0]*data[1] + params[1, 1], \n",
    "            0, \n",
    "            wires=wires)\n",
    "\n",
    "def apply_mixing_layer(params, wires):\n",
    "    qml.Rot(params[0], \n",
    "            params[1],\n",
    "            params[2],\n",
    "            wires=wires)\n",
    "\n",
    "@qml.qnode(dev)\n",
    "def apply_layers(params, wires, data):\n",
    "    #reshaping parameters for ease\n",
    "    data_params = params[:,:4].reshape((len(params), 2, 2))\n",
    "    mixing_params = params[:,4:].reshape((len(params), 3))\n",
    "    for i in range(num_layers):\n",
    "        apply_data_layer(data_params[i], wires=wires, data=data)\n",
    "        apply_mixing_layer(mixing_params[i], wires=wires)\n",
    "    return qml.expval(qml.PauliZ(wires))\n",
    "\n",
    "def square_loss(labels, predictions): #just defining it, but not using it\n",
    "    loss = 0.0\n",
    "    for l, p in zip(labels, predictions):\n",
    "        loss = loss + (l - p) ** 2\n",
    "    loss = loss / len(labels)\n",
    "    return loss\n",
    "\n",
    "def fidelity_loss(labels, predictions): #fidelity loss, unweighted\n",
    "    loss = 0.0\n",
    "    for l, p in zip(labels, predictions):\n",
    "        loss = loss + (1 - l*p)**2/2\n",
    "    loss = loss / len(labels)\n",
    "    return loss\n",
    "\n",
    "def cost(w, X, Y):\n",
    "    predictions = [apply_layers(w, wires=0, data = x) for x in X]\n",
    "    return square_loss(Y, predictions)\n",
    "\n",
    "n = int(len(X_train)/batch_size)\n",
    "we = weights\n",
    "for a in range(n):\n",
    "    batch_index = np.random.randint(0, len(X_train), (batch_size,))\n",
    "    X_train_batch = []\n",
    "    Y_train_batch = []\n",
    "    for i in batch_index:\n",
    "        X_train_batch.append(X_train[i])\n",
    "        Y_train_batch.append(Y_train[i])\n",
    "    we = opt.step(lambda w: cost(w, X_train_batch, Y_train_batch), we)\n",
    "    print('Cost at step '+ str(a) + ': ' + str(cost(we, X_train_batch, Y_train_batch)))"
   ]
  },
  {
   "cell_type": "markdown",
   "metadata": {},
   "source": [
    "### Data classification and re-uploading with a qram  \n",
    "We use a simple amplitude encoding as described in [3] to encode 2 dimensional and 3 dimentional input data. We restrict ourselves to binary classification for simplicity.  "
   ]
  },
  {
   "cell_type": "markdown",
   "metadata": {},
   "source": [
    "<img src=\"images/qram.png\">"
   ]
  },
  {
   "cell_type": "markdown",
   "metadata": {},
   "source": [
    "In each encoding step, we use controlled gates, controlled on the qram qubits. This allows us to parallely compute multiple training cases, while trading off circuit depth. Since we are using circuit fidelity as given in the equation above, we do something smart, we apply controlled gates again based on the targetted training classification \\[0, 1\\] and then we measure the output expectation value (perform a state tomography for fidelity). We apply a NOT gate if the label is -1 ($|1\\rangle\\langle1|$). On measuring expectation over Pauli Z basis, we get:\n",
    "State post circuit:\n",
    "\n",
    "\\begin{align*}\n",
    "    |\\psi\\rangle &= \\frac{1}{\\sqrt{N}} \\sum_i |i\\rangle|\\psi_i\\rangle \\text{ where } \\psi_i \\text{ refers to state post circuit} \\\\\n",
    "    x &= \\frac{1}{N}(\\sum_i \\langle \\psi_i | (|0\\rangle\\langle 0| - |1\\rangle\\langle 1|)|\\psi_i \\rangle)\\\\\n",
    "    \\text{Required fidelity } f &= \\frac{1}{N}(\\sum_i \\langle \\psi_i | (|0\\rangle\\langle 0|)|\\psi_i \\rangle)\\\\\n",
    "    &= \\frac{1}{2N}(\\sum_i \\langle \\psi_i |(|0\\rangle\\langle 0| + |1\\rangle\\langle 1| + |0\\rangle\\langle 0| - |1\\rangle\\langle 1|)|\\psi_i \\rangle)\\\\\n",
    "    &= \\frac{1}{2}(1 + x)\\\\\n",
    "    \\text{Cost function: } L &= 1 - f = \\frac{1}{2}(1 - x) \\text{ where x is the measured value.}\n",
    "\\end{align*}\n",
    "\n",
    "\n",
    "\n",
    "For a n qubit qram, we can process a batch size of $2^n$. Additionally we can proces batches of size $m \\neq 2^k$ by not performing gate operations on those states and appropriately modifying fidelity in the end. For a batch size of m, qrammed over n qubits, $N = 2^n > m$:\n",
    "$$\\text{Cost function: } L = \\frac{1}{2}(1-x)\\times \\frac{N}{m}$$\n",
    "\n",
    "Additionally to optimise the circuit, we perform some preprocessing on the rotation angles to reduce some mulitple qubit controlled rotation gates into uncontrolled and lower order control rotation gates. For example, for a qram over states (batch size 4), if $a, b, c, d$ were the rotation angles for each of them, we have the following decomposition:\n",
    "\n",
    "Now let's implement this for a batch size of 4 (2 qubit qram). Note that for ease of implementation, we have introduced a 4th qubit to act as an indicator for $|11\\rangle$ qram state so as to avoid repeated Toffoli gates."
   ]
  },
  {
   "cell_type": "markdown",
   "metadata": {},
   "source": [
    "<img src=\"images/simplification.png\">"
   ]
  },
  {
   "cell_type": "code",
   "execution_count": 23,
   "metadata": {},
   "outputs": [
    {
     "name": "stdout",
     "output_type": "stream",
     "text": [
      "Cost at step 0: 0.389669924868001\n"
     ]
    }
   ],
   "source": [
    "#initialization\n",
    "num_qubit = 4\n",
    "layers = 10\n",
    "X_train = [[0.5, 0.3, -0.4], [0.4, 0.2, 0.1], [0.4, 0.2, 0.2], [-0.5, 0.3, 0.6]]\n",
    "Y_train = [-1, 1, 1, -1]\n",
    "batch_size = 4 #qrammed!\n",
    "weights = np.random.uniform(low=-np.pi / 2, high=np.pi / 2, size=(num_layers, 9)) #3D input\n",
    "\n",
    "dev2 = qml.device(\"default.qubit\", wires=num_qubit)\n",
    "opt = qml.GradientDescentOptimizer(stepsize=0.2)\n",
    "\n",
    "def apply_data_layer_qram(params, wires, data):\n",
    "    a = []\n",
    "    b = []\n",
    "    c = []\n",
    "    for i in range(len(data)):\n",
    "        a.append(params[0, 0]*data[i][0] + params[0, 1])\n",
    "        b.append(params[1, 0]*data[i][1] + params[1, 1])\n",
    "        c.append(params[2, 0]*data[i][2] + params[2, 1])\n",
    "    transform = lambda arr: [arr[0], arr[1] - arr[0], arr[2] - arr[0], arr[3] + arr[0] - arr[1] - arr[2]]\n",
    "    a = transform(a)\n",
    "    b = transform(b)\n",
    "    c = transform(c)\n",
    "    \n",
    "    qml.RZ(a[0], wires=wires[0])\n",
    "    qml.CRZ(a[1], wires=[wires[1], wires[0]])\n",
    "    qml.CRZ(a[2], wires=[wires[2], wires[0]])\n",
    "    qml.CRZ(a[3], wires=[wires[3], wires[0]])\n",
    "    \n",
    "    qml.RY(b[0], wires=wires[0])\n",
    "    qml.CRY(b[1], wires=[wires[1], wires[0]])\n",
    "    qml.CRY(b[2], wires=[wires[2], wires[0]])\n",
    "    qml.CRY(b[3], wires=[wires[3], wires[0]])\n",
    "    \n",
    "    qml.RZ(c[0], wires=wires[0])\n",
    "    qml.CRZ(c[1], wires=[wires[1], wires[0]])\n",
    "    qml.CRZ(c[2], wires=[wires[2], wires[0]])\n",
    "    qml.CRZ(c[3], wires=[wires[3], wires[0]])\n",
    "\n",
    "def apply_mixing_layer(params, wires):\n",
    "    qml.Rot(params[0], \n",
    "            params[1],\n",
    "            params[2],\n",
    "            wires=wires)\n",
    "\n",
    "@qml.qnode(dev2)\n",
    "def apply_layers_qram_train(params, wires, data, label):\n",
    "    #qram initialization on wires 1, 2; wire 3 is used as an auxilary\n",
    "    qml.Hadamard(wires=wires[1])\n",
    "    qml.Hadamard(wires=wires[2])\n",
    "    qml.Toffoli(wires=wires[1:])\n",
    "    \n",
    "    #reshaping parameters for ease\n",
    "    data_params = params[:,:6].reshape((len(params), 3, 2))\n",
    "    mixing_params = params[:,6:].reshape((len(params), 3))\n",
    "    \n",
    "    for i in range(num_layers):\n",
    "        apply_data_layer_qram(data_params[i], wires=wires, data=data)\n",
    "        apply_mixing_layer(mixing_params[i], wires=wires[0])\n",
    "    \n",
    "    #label encoding for batch fidelity\n",
    "    if label[1] == -1:\n",
    "        qml.CNOT(wires=[wires[1], wires[0]])\n",
    "    if label[2] == -1:\n",
    "        qml.CNOT(wires=[wires[2], wires[0]])\n",
    "    if label[3] == -1:\n",
    "        qml.CNOT(wires=[wires[3], wires[0]])\n",
    "    if label[0] == -1:\n",
    "        qml.PauliX(wires=wires[1])\n",
    "        qml.PauliX(wires=wires[2])\n",
    "        qml.Toffoli(wires=[wires[1], wires[2], wires[0]])\n",
    "    return qml.expval(qml.PauliZ(wires[0]))\n",
    "\n",
    "def cost_qram(w, X, Y):\n",
    "    x = apply_layers_qram_train(w, wires=[0, 1, 2, 3], data = X, label = Y)\n",
    "    return (1-x)/2\n",
    "\n",
    "n = int(len(X_train)/batch_size)\n",
    "\n",
    "for a in range(n):\n",
    "    batch_index = np.random.randint(0, len(X_train), (batch_size,))\n",
    "    X_train_batch = []\n",
    "    Y_train_batch = []\n",
    "    for i in batch_index:\n",
    "        X_train_batch.append(X_train[i])\n",
    "        Y_train_batch.append(Y_train[i])\n",
    "    weights = opt.step(lambda w: cost_qram(w, X_train_batch, Y_train_batch), weights)\n",
    "    x = cost_qram(weights, X_train_batch, Y_train_batch)\n",
    "    print('Cost at step '+ str(a) + ': ' + str(x))"
   ]
  },
  {
   "cell_type": "markdown",
   "metadata": {},
   "source": [
    "We can see that, for a simulator, the time of evaluation for the qrammed case is sometimes slower as compared to when each data point of the batch is individually evaluated. This would only get better as the number of qubits increase with an increase in batch size. Before proceding, lets do a short sanity check:  \n",
    "- For a n qubit qram, batch size is $2^n = N$.  \n",
    "    - Ancilla qubits required for multi-qubit control gates $ = n-2$.  \n",
    "    - Total qubits: $n + n-2 + 1 = 2n - 1$.  \n",
    "    - Increase in circuit depth (due to qram) $\\rightarrow$ Increase in circuit depth of data layer (mixing layer remains the same and constant), thus by a factor of $\\approx N = 2^n$  \n",
    "    - Number of measurements performed: 1 observable for $2^n$ test cases.\n",
    "- If we had instead just used single qubit classifier parallely on the $2n-1$ qubits available:\n",
    "    - Time of evaluation: $O(\\frac{2^n}{2n-1}) \\approx O(2^{n-\\log n - 1})$  \n",
    "    - Number of measurements performed: $2^n$ observables, $O(\\frac{2^n}{2n-1}) \\approx O(2^{n-\\log n - 1})$ number of experiments.  \n",
    "Lets now evaluate this on a real device and see how it performs."
   ]
  },
  {
   "cell_type": "markdown",
   "metadata": {},
   "source": [
    "### Quantum data re-uploading (?)  \n",
    "\n",
    "Due to no cloning, we cannot directly replicate quantum data and a naive attempt at data re-uploading boils down to something similar to normal quantum machine learning, albiet with quantum data, or also where classical input data amplitude encoded as any attempts to perform control gates controlled on the quantum data qubits are just similar entangling gates and the presence of input data in the quantum classifier is not  amplified, it's the same amount of information encoded. See figure below.  \n",
    "\n",
    "If the experiment to produce the input is reproducable, we propose a new method to learn quantum data and we test it out to see if we actually do better than a single input copy with an equivalent number of layers. For doing this efficiently, we use the circular network connectivity of Rigetti Aspen-9 and design the circuit accordingly."
   ]
  },
  {
   "cell_type": "code",
   "execution_count": null,
   "metadata": {},
   "outputs": [],
   "source": [
    "# quantum data re-uploading testing - Control case"
   ]
  },
  {
   "cell_type": "code",
   "execution_count": null,
   "metadata": {},
   "outputs": [],
   "source": [
    "# quantum data re-uploading testing - Our method\n",
    "#working on it!"
   ]
  },
  {
   "cell_type": "markdown",
   "metadata": {},
   "source": [
    "<img src=\"images/qreupload.png\">"
   ]
  },
  {
   "cell_type": "markdown",
   "metadata": {},
   "source": [
    "### Music generation using Quantum universal classifier  \n",
    "(working on it!)"
   ]
  },
  {
   "cell_type": "markdown",
   "metadata": {},
   "source": [
    "<img src=\"images/something.png\">"
   ]
  },
  {
   "cell_type": "markdown",
   "metadata": {},
   "source": [
    "## References  \n",
    "[1] - https://quantum-journal.org/papers/q-2020-02-06-226/  \n",
    "[2] - https://github.com/AlbaCL/qhack21f  \n",
    "[3] - https://journals.aps.org/pra/abstract/10.1103/PhysRevA.102.032420"
   ]
  },
  {
   "cell_type": "markdown",
   "metadata": {},
   "source": []
  }
 ],
 "metadata": {
  "kernelspec": {
   "display_name": "Python 3",
   "language": "python",
   "name": "python3"
  },
  "language_info": {
   "codemirror_mode": {
    "name": "ipython",
    "version": 3
   },
   "file_extension": ".py",
   "mimetype": "text/x-python",
   "name": "python",
   "nbconvert_exporter": "python",
   "pygments_lexer": "ipython3",
   "version": "3.7.6"
  }
 },
 "nbformat": 4,
 "nbformat_minor": 4
}
